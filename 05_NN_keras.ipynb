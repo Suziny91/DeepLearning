{
 "cells": [
  {
   "cell_type": "markdown",
   "id": "c62ad504",
   "metadata": {},
   "source": [
    "### Keras를 이용한 NN\n",
    "    가장 단순한 모델\n",
    "    입력 하나 - 출력 하나\n",
    "    레이어 없음\n",
    "    \n",
    "    케라스 모델 설계 진행 순서\n",
    "    1) 데이터셋 생성\n",
    "    2) 시퀀스 모델 생성\n",
    "    3) compile() 사용해서 loss, optim 선정의 학습을 어떻게 할지를 정의\n",
    "    4) fit() 사용해서 학습을 진행\n",
    "    5) predict() 예측하기\n",
    "    6) evaluate() 평가하기\n",
    "    7) accuracy()\n",
    "    "
   ]
  },
  {
   "cell_type": "code",
   "execution_count": 1,
   "id": "2ff3e53f",
   "metadata": {},
   "outputs": [],
   "source": [
    "import numpy as np\n",
    "import keras"
   ]
  },
  {
   "cell_type": "code",
   "execution_count": 2,
   "id": "db827e2e",
   "metadata": {},
   "outputs": [],
   "source": [
    "# 1) 데이터셋 생성\n",
    "x = np.array([0,1,2,3,4])\n",
    "y = 2 * x + 1"
   ]
  },
  {
   "cell_type": "code",
   "execution_count": 3,
   "id": "f5ac6b9b",
   "metadata": {},
   "outputs": [
    {
     "name": "stdout",
     "output_type": "stream",
     "text": [
      "[0 1 2 3 4]\n",
      "[1 3 5 7 9]\n"
     ]
    }
   ],
   "source": [
    "print(x)\n",
    "print(y)"
   ]
  },
  {
   "cell_type": "code",
   "execution_count": 4,
   "id": "29ff2ed8",
   "metadata": {},
   "outputs": [],
   "source": [
    "# 2) 모델 생성 Sequential() -> 여기다가 model...layer를 하나씩 추가하는 방법\n",
    "# model.add() 해서 레이어를 하나씩 추가한다.\n",
    "# Dense()는 FullyConnectedLayer를 의미한다.\n",
    "# Dense(출력갯수, input_shape=(1,))\n",
    "model = keras.models.Sequential()\n",
    "model.add(keras.layers.Dense(1, input_shape=(1,)))"
   ]
  },
  {
   "cell_type": "code",
   "execution_count": 5,
   "id": "a153997e",
   "metadata": {},
   "outputs": [],
   "source": [
    "#keras.layers.Dense?"
   ]
  },
  {
   "cell_type": "code",
   "execution_count": 6,
   "id": "2ae04fe2",
   "metadata": {},
   "outputs": [],
   "source": [
    "# 3) compile() 사용해서 어떻게 학습할지를 정의\n",
    "model.compile(optimizer=keras.optimizers.SGD(0.01), loss='mse', metrics=['accuracy'])"
   ]
  },
  {
   "cell_type": "code",
   "execution_count": 7,
   "id": "4b2f1b86",
   "metadata": {},
   "outputs": [
    {
     "name": "stdout",
     "output_type": "stream",
     "text": [
      "Epoch 1/100\n",
      "1/1 - 0s - loss: 9.2027 - accuracy: 0.0000e+00\n",
      "Epoch 2/100\n",
      "1/1 - 0s - loss: 7.7283 - accuracy: 0.0000e+00\n",
      "Epoch 3/100\n",
      "1/1 - 0s - loss: 6.4912 - accuracy: 0.0000e+00\n",
      "Epoch 4/100\n",
      "1/1 - 0s - loss: 5.4533 - accuracy: 0.0000e+00\n",
      "Epoch 5/100\n",
      "1/1 - 0s - loss: 4.5824 - accuracy: 0.0000e+00\n",
      "Epoch 6/100\n",
      "1/1 - 0s - loss: 3.8517 - accuracy: 0.0000e+00\n",
      "Epoch 7/100\n",
      "1/1 - 0s - loss: 3.2385 - accuracy: 0.0000e+00\n",
      "Epoch 8/100\n",
      "1/1 - 0s - loss: 2.7241 - accuracy: 0.0000e+00\n",
      "Epoch 9/100\n",
      "1/1 - 0s - loss: 2.2923 - accuracy: 0.0000e+00\n",
      "Epoch 10/100\n",
      "1/1 - 0s - loss: 1.9301 - accuracy: 0.0000e+00\n",
      "Epoch 11/100\n",
      "1/1 - 0s - loss: 1.6261 - accuracy: 0.0000e+00\n",
      "Epoch 12/100\n",
      "1/1 - 0s - loss: 1.3709 - accuracy: 0.0000e+00\n",
      "Epoch 13/100\n",
      "1/1 - 0s - loss: 1.1568 - accuracy: 0.0000e+00\n",
      "Epoch 14/100\n",
      "1/1 - 0s - loss: 0.9771 - accuracy: 0.0000e+00\n",
      "Epoch 15/100\n",
      "1/1 - 0s - loss: 0.8262 - accuracy: 0.0000e+00\n",
      "Epoch 16/100\n",
      "1/1 - 0s - loss: 0.6996 - accuracy: 0.0000e+00\n",
      "Epoch 17/100\n",
      "1/1 - 0s - loss: 0.5932 - accuracy: 0.2500\n",
      "Epoch 18/100\n",
      "1/1 - 0s - loss: 0.5040 - accuracy: 0.2500\n",
      "Epoch 19/100\n",
      "1/1 - 0s - loss: 0.4290 - accuracy: 0.2500\n",
      "Epoch 20/100\n",
      "1/1 - 0s - loss: 0.3660 - accuracy: 0.2500\n",
      "Epoch 21/100\n",
      "1/1 - 0s - loss: 0.3131 - accuracy: 0.2500\n",
      "Epoch 22/100\n",
      "1/1 - 0s - loss: 0.2686 - accuracy: 0.2500\n",
      "Epoch 23/100\n",
      "1/1 - 0s - loss: 0.2313 - accuracy: 0.2500\n",
      "Epoch 24/100\n",
      "1/1 - 0s - loss: 0.1999 - accuracy: 0.2500\n",
      "Epoch 25/100\n",
      "1/1 - 0s - loss: 0.1734 - accuracy: 0.2500\n",
      "Epoch 26/100\n",
      "1/1 - 0s - loss: 0.1512 - accuracy: 0.2500\n",
      "Epoch 27/100\n",
      "1/1 - 0s - loss: 0.1325 - accuracy: 0.2500\n",
      "Epoch 28/100\n",
      "1/1 - 0s - loss: 0.1167 - accuracy: 0.2500\n",
      "Epoch 29/100\n",
      "1/1 - 0s - loss: 0.1034 - accuracy: 0.2500\n",
      "Epoch 30/100\n",
      "1/1 - 0s - loss: 0.0921 - accuracy: 0.2500\n",
      "Epoch 31/100\n",
      "1/1 - 0s - loss: 0.0827 - accuracy: 0.2500\n",
      "Epoch 32/100\n",
      "1/1 - 0s - loss: 0.0746 - accuracy: 0.2500\n",
      "Epoch 33/100\n",
      "1/1 - 0s - loss: 0.0679 - accuracy: 0.2500\n",
      "Epoch 34/100\n",
      "1/1 - 0s - loss: 0.0621 - accuracy: 0.2500\n",
      "Epoch 35/100\n",
      "1/1 - 0s - loss: 0.0572 - accuracy: 0.2500\n",
      "Epoch 36/100\n",
      "1/1 - 0s - loss: 0.0530 - accuracy: 0.2500\n",
      "Epoch 37/100\n",
      "1/1 - 0s - loss: 0.0495 - accuracy: 0.2500\n",
      "Epoch 38/100\n",
      "1/1 - 0s - loss: 0.0464 - accuracy: 0.2500\n",
      "Epoch 39/100\n",
      "1/1 - 0s - loss: 0.0438 - accuracy: 0.2500\n",
      "Epoch 40/100\n",
      "1/1 - 0s - loss: 0.0416 - accuracy: 0.2500\n",
      "Epoch 41/100\n",
      "1/1 - 0s - loss: 0.0396 - accuracy: 0.2500\n",
      "Epoch 42/100\n",
      "1/1 - 0s - loss: 0.0380 - accuracy: 0.2500\n",
      "Epoch 43/100\n",
      "1/1 - 0s - loss: 0.0365 - accuracy: 0.2500\n",
      "Epoch 44/100\n",
      "1/1 - 0s - loss: 0.0352 - accuracy: 0.2500\n",
      "Epoch 45/100\n",
      "1/1 - 0s - loss: 0.0341 - accuracy: 0.2500\n",
      "Epoch 46/100\n",
      "1/1 - 0s - loss: 0.0331 - accuracy: 0.2500\n",
      "Epoch 47/100\n",
      "1/1 - 0s - loss: 0.0322 - accuracy: 0.2500\n",
      "Epoch 48/100\n",
      "1/1 - 0s - loss: 0.0313 - accuracy: 0.2500\n",
      "Epoch 49/100\n",
      "1/1 - 0s - loss: 0.0306 - accuracy: 0.2500\n",
      "Epoch 50/100\n",
      "1/1 - 0s - loss: 0.0300 - accuracy: 0.2500\n",
      "Epoch 51/100\n",
      "1/1 - 0s - loss: 0.0294 - accuracy: 0.2500\n",
      "Epoch 52/100\n",
      "1/1 - 0s - loss: 0.0288 - accuracy: 0.2500\n",
      "Epoch 53/100\n",
      "1/1 - 0s - loss: 0.0283 - accuracy: 0.2500\n",
      "Epoch 54/100\n",
      "1/1 - 0s - loss: 0.0278 - accuracy: 0.2500\n",
      "Epoch 55/100\n",
      "1/1 - 0s - loss: 0.0273 - accuracy: 0.2500\n",
      "Epoch 56/100\n",
      "1/1 - 0s - loss: 0.0269 - accuracy: 0.2500\n",
      "Epoch 57/100\n",
      "1/1 - 0s - loss: 0.0265 - accuracy: 0.2500\n",
      "Epoch 58/100\n",
      "1/1 - 0s - loss: 0.0261 - accuracy: 0.2500\n",
      "Epoch 59/100\n",
      "1/1 - 0s - loss: 0.0257 - accuracy: 0.2500\n",
      "Epoch 60/100\n",
      "1/1 - 0s - loss: 0.0254 - accuracy: 0.2500\n",
      "Epoch 61/100\n",
      "1/1 - 0s - loss: 0.0250 - accuracy: 0.2500\n",
      "Epoch 62/100\n",
      "1/1 - 0s - loss: 0.0247 - accuracy: 0.2500\n",
      "Epoch 63/100\n",
      "1/1 - 0s - loss: 0.0244 - accuracy: 0.2500\n",
      "Epoch 64/100\n",
      "1/1 - 0s - loss: 0.0241 - accuracy: 0.2500\n",
      "Epoch 65/100\n",
      "1/1 - 0s - loss: 0.0238 - accuracy: 0.2500\n",
      "Epoch 66/100\n",
      "1/1 - 0s - loss: 0.0235 - accuracy: 0.2500\n",
      "Epoch 67/100\n",
      "1/1 - 0s - loss: 0.0232 - accuracy: 0.2500\n",
      "Epoch 68/100\n",
      "1/1 - 0s - loss: 0.0229 - accuracy: 0.2500\n",
      "Epoch 69/100\n",
      "1/1 - 0s - loss: 0.0226 - accuracy: 0.2500\n",
      "Epoch 70/100\n",
      "1/1 - 0s - loss: 0.0223 - accuracy: 0.2500\n",
      "Epoch 71/100\n",
      "1/1 - 0s - loss: 0.0221 - accuracy: 0.2500\n",
      "Epoch 72/100\n",
      "1/1 - 0s - loss: 0.0218 - accuracy: 0.2500\n",
      "Epoch 73/100\n",
      "1/1 - 0s - loss: 0.0215 - accuracy: 0.2500\n",
      "Epoch 74/100\n",
      "1/1 - 0s - loss: 0.0213 - accuracy: 0.2500\n",
      "Epoch 75/100\n",
      "1/1 - 0s - loss: 0.0210 - accuracy: 0.2500\n",
      "Epoch 76/100\n",
      "1/1 - 0s - loss: 0.0208 - accuracy: 0.2500\n",
      "Epoch 77/100\n",
      "1/1 - 0s - loss: 0.0205 - accuracy: 0.2500\n",
      "Epoch 78/100\n",
      "1/1 - 0s - loss: 0.0203 - accuracy: 0.2500\n",
      "Epoch 79/100\n",
      "1/1 - 0s - loss: 0.0200 - accuracy: 0.2500\n",
      "Epoch 80/100\n",
      "1/1 - 0s - loss: 0.0198 - accuracy: 0.2500\n",
      "Epoch 81/100\n",
      "1/1 - 0s - loss: 0.0195 - accuracy: 0.2500\n",
      "Epoch 82/100\n",
      "1/1 - 0s - loss: 0.0193 - accuracy: 0.2500\n",
      "Epoch 83/100\n",
      "1/1 - 0s - loss: 0.0191 - accuracy: 0.2500\n",
      "Epoch 84/100\n",
      "1/1 - 0s - loss: 0.0189 - accuracy: 0.2500\n",
      "Epoch 85/100\n",
      "1/1 - 0s - loss: 0.0186 - accuracy: 0.2500\n",
      "Epoch 86/100\n",
      "1/1 - 0s - loss: 0.0184 - accuracy: 0.2500\n",
      "Epoch 87/100\n",
      "1/1 - 0s - loss: 0.0182 - accuracy: 0.2500\n",
      "Epoch 88/100\n",
      "1/1 - 0s - loss: 0.0180 - accuracy: 0.2500\n",
      "Epoch 89/100\n",
      "1/1 - 0s - loss: 0.0178 - accuracy: 0.2500\n",
      "Epoch 90/100\n",
      "1/1 - 0s - loss: 0.0175 - accuracy: 0.2500\n",
      "Epoch 91/100\n",
      "1/1 - 0s - loss: 0.0173 - accuracy: 0.2500\n",
      "Epoch 92/100\n",
      "1/1 - 0s - loss: 0.0171 - accuracy: 0.2500\n",
      "Epoch 93/100\n",
      "1/1 - 0s - loss: 0.0169 - accuracy: 0.2500\n",
      "Epoch 94/100\n",
      "1/1 - 0s - loss: 0.0167 - accuracy: 0.2500\n",
      "Epoch 95/100\n",
      "1/1 - 0s - loss: 0.0165 - accuracy: 0.2500\n",
      "Epoch 96/100\n",
      "1/1 - 0s - loss: 0.0163 - accuracy: 0.2500\n",
      "Epoch 97/100\n",
      "1/1 - 0s - loss: 0.0161 - accuracy: 0.2500\n",
      "Epoch 98/100\n",
      "1/1 - 0s - loss: 0.0159 - accuracy: 0.2500\n",
      "Epoch 99/100\n",
      "1/1 - 0s - loss: 0.0158 - accuracy: 0.2500\n",
      "Epoch 100/100\n",
      "1/1 - 0s - loss: 0.0156 - accuracy: 0.2500\n"
     ]
    },
    {
     "data": {
      "text/plain": [
       "<tensorflow.python.keras.callbacks.History at 0x1f074972be0>"
      ]
     },
     "execution_count": 7,
     "metadata": {},
     "output_type": "execute_result"
    }
   ],
   "source": [
    "# fit() 학습을 진행\n",
    "model.fit(x[:4], y[:4], epochs=100, verbose=2)"
   ]
  },
  {
   "cell_type": "code",
   "execution_count": 8,
   "id": "74aa7ab2",
   "metadata": {},
   "outputs": [
    {
     "name": "stdout",
     "output_type": "stream",
     "text": [
      "Targets :  [7 9]\n",
      "Predicts :  [7.082736 9.179008]\n"
     ]
    }
   ],
   "source": [
    "# 5) predict() 예측하기\n",
    "print(\"Targets : \", y[3:])\n",
    "print(\"Predicts : \", model.predict(x[3:]).flatten()) # 출력값을 1차원으로 펼친다."
   ]
  },
  {
   "cell_type": "code",
   "execution_count": 9,
   "id": "fc028bbc",
   "metadata": {},
   "outputs": [
    {
     "name": "stdout",
     "output_type": "stream",
     "text": [
      "1/1 [==============================] - 0s 2ms/step - loss: 0.0194 - accuracy: 0.0000e+00\n"
     ]
    },
    {
     "data": {
      "text/plain": [
       "[0.01944447122514248, 0.0]"
      ]
     },
     "execution_count": 9,
     "metadata": {},
     "output_type": "execute_result"
    }
   ],
   "source": [
    "# 6) evaluate() 평가하기\n",
    "eval_value = model.evaluate(x[3:], y[3:])\n",
    "eval_value"
   ]
  },
  {
   "cell_type": "code",
   "execution_count": 10,
   "id": "0c830c61",
   "metadata": {},
   "outputs": [
    {
     "name": "stdout",
     "output_type": "stream",
     "text": [
      "1/1 [==============================] - 0s 999us/step - loss: 0.0194 - accuracy: 0.0000e+00\n",
      "loss:0.01944447122514248, accuracy:0.0\n"
     ]
    }
   ],
   "source": [
    "loss_function = model.evaluate(x[3:], y[3:])\n",
    "print('loss:{}, accuracy:{}'.format(*loss_function))"
   ]
  },
  {
   "cell_type": "code",
   "execution_count": null,
   "id": "442bd850",
   "metadata": {},
   "outputs": [],
   "source": []
  },
  {
   "cell_type": "code",
   "execution_count": null,
   "id": "7648ee44",
   "metadata": {},
   "outputs": [],
   "source": []
  }
 ],
 "metadata": {
  "kernelspec": {
   "display_name": "Python 3",
   "language": "python",
   "name": "python3"
  },
  "language_info": {
   "codemirror_mode": {
    "name": "ipython",
    "version": 3
   },
   "file_extension": ".py",
   "mimetype": "text/x-python",
   "name": "python",
   "nbconvert_exporter": "python",
   "pygments_lexer": "ipython3",
   "version": "3.8.10"
  }
 },
 "nbformat": 4,
 "nbformat_minor": 5
}
